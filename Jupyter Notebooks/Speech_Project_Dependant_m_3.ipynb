{
 "cells": [
  {
   "cell_type": "code",
   "execution_count": 1,
   "id": "9ce7e435",
   "metadata": {
    "id": "9ce7e435"
   },
   "outputs": [],
   "source": [
    "import python_speech_features\n",
    "import os\n",
    "import librosa\n",
    "import random\n",
    "import numpy as np\n",
    "from sklearn.model_selection import train_test_split\n",
    "%matplotlib inline\n",
    "import matplotlib.pyplot as plt\n",
    "import tensorflow as tf\n",
    "import tensorflow.keras as keras\n",
    "from tensorflow.keras import layers, models"
   ]
  },
  {
   "cell_type": "code",
   "execution_count": 2,
   "id": "07f17d8e",
   "metadata": {
    "colab": {
     "base_uri": "https://localhost:8080/"
    },
    "id": "07f17d8e",
    "outputId": "a274da60-850b-4e0f-e1a1-269cc5eb14e1"
   },
   "outputs": [
    {
     "name": "stdout",
     "output_type": "stream",
     "text": [
      "['0', '1', '2', '3', '4', '5', '6', '7', '8', '9']\n"
     ]
    }
   ],
   "source": [
    "dataset_path_train = \"/home/main_dude/Projects/speech_tech/new_dataset/spk_dependent/training\"\n",
    "targets = [name for name in os.listdir(dataset_path_train) if os.path.isdir(os.path.join(dataset_path_train, name))]\n",
    "targets.sort()\n",
    "print(targets)"
   ]
  },
  {
   "cell_type": "code",
   "execution_count": 3,
   "id": "FVQ1OOhPCraw",
   "metadata": {
    "colab": {
     "base_uri": "https://localhost:8080/"
    },
    "id": "FVQ1OOhPCraw",
    "outputId": "da3ae01d-da5e-4cb8-9498-c2698ce5fb7d"
   },
   "outputs": [
    {
     "name": "stdout",
     "output_type": "stream",
     "text": [
      "['0', '1', '2', '3', '4', '5', '6', '7', '8', '9']\n"
     ]
    }
   ],
   "source": [
    "dataset_path_test = \"/home/main_dude/Projects/speech_tech/new_dataset/spk_dependent/testing\"\n",
    "targets_test = [name for name in os.listdir(dataset_path_test) if os.path.isdir(os.path.join(dataset_path_test, name))]\n",
    "targets_test.sort()\n",
    "print(targets_test)"
   ]
  },
  {
   "cell_type": "markdown",
   "id": "480ce12d",
   "metadata": {
    "id": "480ce12d"
   },
   "source": [
    "# Extracting MFCCs"
   ]
  },
  {
   "cell_type": "code",
   "execution_count": 4,
   "id": "e3041ed4",
   "metadata": {
    "colab": {
     "base_uri": "https://localhost:8080/"
    },
    "id": "e3041ed4",
    "outputId": "03c4b3cb-a864-47cb-b019-71e62f8f393e",
    "scrolled": true
   },
   "outputs": [
    {
     "name": "stdout",
     "output_type": "stream",
     "text": [
      "/home/main_dude/Projects/speech_tech/new_dataset/spk_dependent/training/0/abishek_0_rec1.wav\n",
      "/home/main_dude/Projects/speech_tech/new_dataset/spk_dependent/training/0/bhavya_0_rec1.wav\n",
      "/home/main_dude/Projects/speech_tech/new_dataset/spk_dependent/training/0/bavapriyan_0_rec5.wav\n",
      "/home/main_dude/Projects/speech_tech/new_dataset/spk_dependent/training/0/akash_0_rec1.wav\n",
      "/home/main_dude/Projects/speech_tech/new_dataset/spk_dependent/training/0/akash_0_rec5.wav\n",
      "/home/main_dude/Projects/speech_tech/new_dataset/spk_dependent/training/0/abishek_0_rec3.wav\n",
      "/home/main_dude/Projects/speech_tech/new_dataset/spk_dependent/training/0/bhavya_0_rec3.wav\n",
      "/home/main_dude/Projects/speech_tech/new_dataset/spk_dependent/training/0/ajay_0_rec2.wav\n",
      "/home/main_dude/Projects/speech_tech/new_dataset/spk_dependent/training/0/arjun_0_rec5.wav\n",
      "/home/main_dude/Projects/speech_tech/new_dataset/spk_dependent/training/0/ari_0_rec2.wav\n",
      "/home/main_dude/Projects/speech_tech/new_dataset/spk_dependent/training/0/bavapriyan_0_rec1.wav\n",
      "/home/main_dude/Projects/speech_tech/new_dataset/spk_dependent/training/0/arjun_0_rec2.wav\n",
      "/home/main_dude/Projects/speech_tech/new_dataset/spk_dependent/training/0/bavapriyan_0_rec3.wav\n",
      "/home/main_dude/Projects/speech_tech/new_dataset/spk_dependent/training/0/ari_0_rec5.wav\n",
      "/home/main_dude/Projects/speech_tech/new_dataset/spk_dependent/training/0/arjun_0_rec4.wav\n",
      "/home/main_dude/Projects/speech_tech/new_dataset/spk_dependent/training/0/abishek_0_rec4.wav\n",
      "/home/main_dude/Projects/speech_tech/new_dataset/spk_dependent/training/0/aniv_0_rec4.wav\n",
      "/home/main_dude/Projects/speech_tech/new_dataset/spk_dependent/training/0/ajay_0_rec1.wav\n",
      "/home/main_dude/Projects/speech_tech/new_dataset/spk_dependent/training/0/akash_0_rec4.wav\n",
      "/home/main_dude/Projects/speech_tech/new_dataset/spk_dependent/training/0/anirudh_0_rec4.wav\n",
      "/home/main_dude/Projects/speech_tech/new_dataset/spk_dependent/training/0/abishek_0_rec2.wav\n",
      "/home/main_dude/Projects/speech_tech/new_dataset/spk_dependent/training/0/amrish_0_rec2.wav\n",
      "/home/main_dude/Projects/speech_tech/new_dataset/spk_dependent/training/0/ari_0_rec3.wav\n",
      "/home/main_dude/Projects/speech_tech/new_dataset/spk_dependent/training/0/ashwin_0_rec1.wav\n",
      "/home/main_dude/Projects/speech_tech/new_dataset/spk_dependent/training/0/ajay_0_rec5.wav\n",
      "/home/main_dude/Projects/speech_tech/new_dataset/spk_dependent/training/0/ashwin_0_rec5.wav\n",
      "/home/main_dude/Projects/speech_tech/new_dataset/spk_dependent/training/0/ari_0_rec4.wav\n",
      "/home/main_dude/Projects/speech_tech/new_dataset/spk_dependent/training/0/ari_0_rec1.wav\n",
      "/home/main_dude/Projects/speech_tech/new_dataset/spk_dependent/training/0/aniv_0_rec3.wav\n",
      "/home/main_dude/Projects/speech_tech/new_dataset/spk_dependent/training/0/bhavya_0_rec5.wav\n",
      "/home/main_dude/Projects/speech_tech/new_dataset/spk_dependent/training/0/aniv_0_rec2.wav\n",
      "/home/main_dude/Projects/speech_tech/new_dataset/spk_dependent/training/0/akash_0_rec3.wav\n",
      "/home/main_dude/Projects/speech_tech/new_dataset/spk_dependent/training/0/ajay_0_rec4.wav\n",
      "/home/main_dude/Projects/speech_tech/new_dataset/spk_dependent/training/0/bhavya_0_rec2.wav\n",
      "/home/main_dude/Projects/speech_tech/new_dataset/spk_dependent/training/0/amrish_0_rec1.wav\n",
      "/home/main_dude/Projects/speech_tech/new_dataset/spk_dependent/training/0/amrish_0_rec4.wav\n",
      "/home/main_dude/Projects/speech_tech/new_dataset/spk_dependent/training/0/aniv_0_rec1.wav\n",
      "/home/main_dude/Projects/speech_tech/new_dataset/spk_dependent/training/0/akash_0_rec2.wav\n",
      "/home/main_dude/Projects/speech_tech/new_dataset/spk_dependent/training/0/anirudh_0_rec3.wav\n",
      "/home/main_dude/Projects/speech_tech/new_dataset/spk_dependent/training/0/ashwin_0_rec2.wav\n",
      "/home/main_dude/Projects/speech_tech/new_dataset/spk_dependent/training/0/bhavya_0_rec4.wav\n",
      "/home/main_dude/Projects/speech_tech/new_dataset/spk_dependent/training/0/bavapriyan_0_rec2.wav\n",
      "/home/main_dude/Projects/speech_tech/new_dataset/spk_dependent/training/0/bavapriyan_0_rec4.wav\n",
      "/home/main_dude/Projects/speech_tech/new_dataset/spk_dependent/training/0/ajay_0_rec3.wav\n",
      "/home/main_dude/Projects/speech_tech/new_dataset/spk_dependent/training/0/abishek_0_rec5.wav\n",
      "/home/main_dude/Projects/speech_tech/new_dataset/spk_dependent/training/0/amrish_0_rec3.wav\n",
      "/home/main_dude/Projects/speech_tech/new_dataset/spk_dependent/training/0/anirudh_0_rec5.wav\n",
      "/home/main_dude/Projects/speech_tech/new_dataset/spk_dependent/training/0/arjun_0_rec3.wav\n",
      "/home/main_dude/Projects/speech_tech/new_dataset/spk_dependent/training/0/amrish_0_rec5.wav\n",
      "/home/main_dude/Projects/speech_tech/new_dataset/spk_dependent/training/0/anirudh_0_rec2.wav\n",
      "/home/main_dude/Projects/speech_tech/new_dataset/spk_dependent/training/0/ashwin_0_rec3.wav\n",
      "/home/main_dude/Projects/speech_tech/new_dataset/spk_dependent/training/0/anirudh_0_rec1.wav\n",
      "/home/main_dude/Projects/speech_tech/new_dataset/spk_dependent/training/0/ashwin_0_rec4.wav\n",
      "/home/main_dude/Projects/speech_tech/new_dataset/spk_dependent/training/0/arjun_0_rec1.wav\n",
      "/home/main_dude/Projects/speech_tech/new_dataset/spk_dependent/training/0/aniv_0_rec5.wav\n",
      "/home/main_dude/Projects/speech_tech/new_dataset/spk_dependent/training/1/anirudh_1_rec3.wav\n",
      "/home/main_dude/Projects/speech_tech/new_dataset/spk_dependent/training/1/ajay_1_rec4.wav\n",
      "/home/main_dude/Projects/speech_tech/new_dataset/spk_dependent/training/1/aniv_1_rec3.wav\n",
      "/home/main_dude/Projects/speech_tech/new_dataset/spk_dependent/training/1/ajay_1_rec1.wav\n",
      "/home/main_dude/Projects/speech_tech/new_dataset/spk_dependent/training/1/akash_1_rec2.wav\n",
      "/home/main_dude/Projects/speech_tech/new_dataset/spk_dependent/training/1/bavapriyan_1_rec2.wav\n",
      "/home/main_dude/Projects/speech_tech/new_dataset/spk_dependent/training/1/amrish_1_rec1.wav\n",
      "/home/main_dude/Projects/speech_tech/new_dataset/spk_dependent/training/1/bavapriyan_1_rec4.wav\n",
      "/home/main_dude/Projects/speech_tech/new_dataset/spk_dependent/training/1/ari_1_rec4.wav\n",
      "/home/main_dude/Projects/speech_tech/new_dataset/spk_dependent/training/1/ashwin_1_rec2.wav\n",
      "/home/main_dude/Projects/speech_tech/new_dataset/spk_dependent/training/1/amrish_1_rec2.wav\n",
      "/home/main_dude/Projects/speech_tech/new_dataset/spk_dependent/training/1/ajay_1_rec5.wav\n",
      "/home/main_dude/Projects/speech_tech/new_dataset/spk_dependent/training/1/ajay_1_rec3.wav\n",
      "/home/main_dude/Projects/speech_tech/new_dataset/spk_dependent/training/1/bavapriyan_1_rec3.wav\n",
      "/home/main_dude/Projects/speech_tech/new_dataset/spk_dependent/training/1/arjun_1_rec3.wav\n",
      "/home/main_dude/Projects/speech_tech/new_dataset/spk_dependent/training/1/anirudh_1_rec1.wav\n",
      "/home/main_dude/Projects/speech_tech/new_dataset/spk_dependent/training/1/akash_1_rec4.wav\n",
      "/home/main_dude/Projects/speech_tech/new_dataset/spk_dependent/training/1/abishek_1_rec3.wav\n",
      "/home/main_dude/Projects/speech_tech/new_dataset/spk_dependent/training/1/aniv_1_rec2.wav\n",
      "/home/main_dude/Projects/speech_tech/new_dataset/spk_dependent/training/1/ashwin_1_rec4.wav\n",
      "/home/main_dude/Projects/speech_tech/new_dataset/spk_dependent/training/1/amrish_1_rec5.wav\n",
      "/home/main_dude/Projects/speech_tech/new_dataset/spk_dependent/training/1/amrish_1_rec3.wav\n",
      "/home/main_dude/Projects/speech_tech/new_dataset/spk_dependent/training/1/ajay_1_rec2.wav\n",
      "/home/main_dude/Projects/speech_tech/new_dataset/spk_dependent/training/1/ari_1_rec3.wav\n",
      "/home/main_dude/Projects/speech_tech/new_dataset/spk_dependent/training/1/amrish_1_rec4.wav\n",
      "/home/main_dude/Projects/speech_tech/new_dataset/spk_dependent/training/1/bhavya_1_rec5.wav\n",
      "/home/main_dude/Projects/speech_tech/new_dataset/spk_dependent/training/1/anirudh_1_rec5.wav\n",
      "/home/main_dude/Projects/speech_tech/new_dataset/spk_dependent/training/1/ashwin_1_rec5.wav\n",
      "/home/main_dude/Projects/speech_tech/new_dataset/spk_dependent/training/1/ari_1_rec5.wav\n",
      "/home/main_dude/Projects/speech_tech/new_dataset/spk_dependent/training/1/arjun_1_rec5.wav\n",
      "/home/main_dude/Projects/speech_tech/new_dataset/spk_dependent/training/1/ashwin_1_rec3.wav\n",
      "/home/main_dude/Projects/speech_tech/new_dataset/spk_dependent/training/1/bhavya_1_rec3.wav\n",
      "/home/main_dude/Projects/speech_tech/new_dataset/spk_dependent/training/1/anirudh_1_rec4.wav\n",
      "/home/main_dude/Projects/speech_tech/new_dataset/spk_dependent/training/1/anirudh_1_rec2.wav\n",
      "/home/main_dude/Projects/speech_tech/new_dataset/spk_dependent/training/1/aniv_1_rec1.wav\n",
      "/home/main_dude/Projects/speech_tech/new_dataset/spk_dependent/training/1/abishek_1_rec5.wav\n",
      "/home/main_dude/Projects/speech_tech/new_dataset/spk_dependent/training/1/arjun_1_rec2.wav\n",
      "/home/main_dude/Projects/speech_tech/new_dataset/spk_dependent/training/1/abishek_1_rec2.wav\n",
      "/home/main_dude/Projects/speech_tech/new_dataset/spk_dependent/training/1/bavapriyan_1_rec1.wav\n",
      "/home/main_dude/Projects/speech_tech/new_dataset/spk_dependent/training/1/abishek_1_rec1.wav\n",
      "/home/main_dude/Projects/speech_tech/new_dataset/spk_dependent/training/1/bhavya_1_rec1.wav\n",
      "/home/main_dude/Projects/speech_tech/new_dataset/spk_dependent/training/1/ari_1_rec2.wav\n",
      "/home/main_dude/Projects/speech_tech/new_dataset/spk_dependent/training/1/arjun_1_rec1.wav\n",
      "/home/main_dude/Projects/speech_tech/new_dataset/spk_dependent/training/1/bhavya_1_rec4.wav\n",
      "/home/main_dude/Projects/speech_tech/new_dataset/spk_dependent/training/1/arjun_1_rec4.wav\n",
      "/home/main_dude/Projects/speech_tech/new_dataset/spk_dependent/training/1/bavapriyan_1_rec5.wav\n",
      "/home/main_dude/Projects/speech_tech/new_dataset/spk_dependent/training/1/ari_1_rec1.wav\n",
      "/home/main_dude/Projects/speech_tech/new_dataset/spk_dependent/training/1/akash_1_rec3.wav\n",
      "/home/main_dude/Projects/speech_tech/new_dataset/spk_dependent/training/1/aniv_1_rec5.wav\n",
      "/home/main_dude/Projects/speech_tech/new_dataset/spk_dependent/training/1/bhavya_1_rec2.wav\n",
      "/home/main_dude/Projects/speech_tech/new_dataset/spk_dependent/training/1/ashwin_1_rec1.wav\n",
      "/home/main_dude/Projects/speech_tech/new_dataset/spk_dependent/training/1/akash_1_rec5.wav\n",
      "/home/main_dude/Projects/speech_tech/new_dataset/spk_dependent/training/1/akash_1_rec1.wav\n",
      "/home/main_dude/Projects/speech_tech/new_dataset/spk_dependent/training/1/abishek_1_rec4.wav\n",
      "/home/main_dude/Projects/speech_tech/new_dataset/spk_dependent/training/1/aniv_1_rec4.wav\n",
      "/home/main_dude/Projects/speech_tech/new_dataset/spk_dependent/training/2/amrish_2_rec4.wav\n",
      "/home/main_dude/Projects/speech_tech/new_dataset/spk_dependent/training/2/ari_2_rec1.wav\n",
      "/home/main_dude/Projects/speech_tech/new_dataset/spk_dependent/training/2/abishek_2_rec2.wav\n",
      "/home/main_dude/Projects/speech_tech/new_dataset/spk_dependent/training/2/amrish_2_rec1.wav\n",
      "/home/main_dude/Projects/speech_tech/new_dataset/spk_dependent/training/2/aniv_2_rec1.wav\n",
      "/home/main_dude/Projects/speech_tech/new_dataset/spk_dependent/training/2/akash_2_rec2.wav\n",
      "/home/main_dude/Projects/speech_tech/new_dataset/spk_dependent/training/2/ajay_2_rec3.wav\n",
      "/home/main_dude/Projects/speech_tech/new_dataset/spk_dependent/training/2/ajay_2_rec4.wav\n",
      "/home/main_dude/Projects/speech_tech/new_dataset/spk_dependent/training/2/anirudh_2_rec5.wav\n",
      "/home/main_dude/Projects/speech_tech/new_dataset/spk_dependent/training/2/ashwin_2_rec3.wav\n",
      "/home/main_dude/Projects/speech_tech/new_dataset/spk_dependent/training/2/bhavya_2_rec2.wav\n",
      "/home/main_dude/Projects/speech_tech/new_dataset/spk_dependent/training/2/abishek_2_rec1.wav\n",
      "/home/main_dude/Projects/speech_tech/new_dataset/spk_dependent/training/2/bavapriyan_2_rec4.wav\n",
      "/home/main_dude/Projects/speech_tech/new_dataset/spk_dependent/training/2/abishek_2_rec4.wav\n",
      "/home/main_dude/Projects/speech_tech/new_dataset/spk_dependent/training/2/anirudh_2_rec1.wav\n",
      "/home/main_dude/Projects/speech_tech/new_dataset/spk_dependent/training/2/ashwin_2_rec4.wav\n",
      "/home/main_dude/Projects/speech_tech/new_dataset/spk_dependent/training/2/akash_2_rec4.wav\n",
      "/home/main_dude/Projects/speech_tech/new_dataset/spk_dependent/training/2/abishek_2_rec5.wav\n",
      "/home/main_dude/Projects/speech_tech/new_dataset/spk_dependent/training/2/aniv_2_rec4.wav\n",
      "/home/main_dude/Projects/speech_tech/new_dataset/spk_dependent/training/2/aniv_2_rec2.wav\n",
      "/home/main_dude/Projects/speech_tech/new_dataset/spk_dependent/training/2/akash_2_rec3.wav\n",
      "/home/main_dude/Projects/speech_tech/new_dataset/spk_dependent/training/2/bhavya_2_rec4.wav\n",
      "/home/main_dude/Projects/speech_tech/new_dataset/spk_dependent/training/2/aniv_2_rec5.wav\n",
      "/home/main_dude/Projects/speech_tech/new_dataset/spk_dependent/training/2/abishek_2_rec3.wav\n",
      "/home/main_dude/Projects/speech_tech/new_dataset/spk_dependent/training/2/ashwin_2_rec5.wav\n",
      "/home/main_dude/Projects/speech_tech/new_dataset/spk_dependent/training/2/arjun_2_rec1.wav\n",
      "/home/main_dude/Projects/speech_tech/new_dataset/spk_dependent/training/2/arjun_2_rec4.wav\n",
      "/home/main_dude/Projects/speech_tech/new_dataset/spk_dependent/training/2/bavapriyan_2_rec5.wav\n",
      "/home/main_dude/Projects/speech_tech/new_dataset/spk_dependent/training/2/akash_2_rec5.wav\n",
      "/home/main_dude/Projects/speech_tech/new_dataset/spk_dependent/training/2/amrish_2_rec5.wav\n",
      "/home/main_dude/Projects/speech_tech/new_dataset/spk_dependent/training/2/ajay_2_rec2.wav\n",
      "/home/main_dude/Projects/speech_tech/new_dataset/spk_dependent/training/2/arjun_2_rec5.wav\n",
      "/home/main_dude/Projects/speech_tech/new_dataset/spk_dependent/training/2/amrish_2_rec3.wav\n",
      "/home/main_dude/Projects/speech_tech/new_dataset/spk_dependent/training/2/ari_2_rec5.wav\n",
      "/home/main_dude/Projects/speech_tech/new_dataset/spk_dependent/training/2/bavapriyan_2_rec1.wav\n",
      "/home/main_dude/Projects/speech_tech/new_dataset/spk_dependent/training/2/bhavya_2_rec5.wav\n",
      "/home/main_dude/Projects/speech_tech/new_dataset/spk_dependent/training/2/arjun_2_rec2.wav\n",
      "/home/main_dude/Projects/speech_tech/new_dataset/spk_dependent/training/2/bhavya_2_rec3.wav\n",
      "/home/main_dude/Projects/speech_tech/new_dataset/spk_dependent/training/2/aniv_2_rec3.wav\n",
      "/home/main_dude/Projects/speech_tech/new_dataset/spk_dependent/training/2/arjun_2_rec3.wav\n",
      "/home/main_dude/Projects/speech_tech/new_dataset/spk_dependent/training/2/anirudh_2_rec4.wav\n",
      "/home/main_dude/Projects/speech_tech/new_dataset/spk_dependent/training/2/ajay_2_rec5.wav\n",
      "/home/main_dude/Projects/speech_tech/new_dataset/spk_dependent/training/2/anirudh_2_rec2.wav\n",
      "/home/main_dude/Projects/speech_tech/new_dataset/spk_dependent/training/2/bavapriyan_2_rec2.wav\n",
      "/home/main_dude/Projects/speech_tech/new_dataset/spk_dependent/training/2/ari_2_rec2.wav\n",
      "/home/main_dude/Projects/speech_tech/new_dataset/spk_dependent/training/2/ari_2_rec3.wav\n",
      "/home/main_dude/Projects/speech_tech/new_dataset/spk_dependent/training/2/ajay_2_rec1.wav\n",
      "/home/main_dude/Projects/speech_tech/new_dataset/spk_dependent/training/2/anirudh_2_rec3.wav\n",
      "/home/main_dude/Projects/speech_tech/new_dataset/spk_dependent/training/2/bavapriyan_2_rec3.wav\n",
      "/home/main_dude/Projects/speech_tech/new_dataset/spk_dependent/training/2/akash_2_rec1.wav\n",
      "/home/main_dude/Projects/speech_tech/new_dataset/spk_dependent/training/2/amrish_2_rec2.wav\n",
      "/home/main_dude/Projects/speech_tech/new_dataset/spk_dependent/training/2/bhavya_2_rec1.wav\n",
      "/home/main_dude/Projects/speech_tech/new_dataset/spk_dependent/training/2/ari_2_rec4.wav\n",
      "/home/main_dude/Projects/speech_tech/new_dataset/spk_dependent/training/2/ashwin_2_rec2.wav\n",
      "/home/main_dude/Projects/speech_tech/new_dataset/spk_dependent/training/2/ashwin_2_rec1.wav\n",
      "/home/main_dude/Projects/speech_tech/new_dataset/spk_dependent/training/3/ashwin_3_rec3.wav\n",
      "/home/main_dude/Projects/speech_tech/new_dataset/spk_dependent/training/3/arjun_3_rec2.wav\n",
      "/home/main_dude/Projects/speech_tech/new_dataset/spk_dependent/training/3/akash_3_rec5.wav\n",
      "/home/main_dude/Projects/speech_tech/new_dataset/spk_dependent/training/3/abishek_3_rec2.wav\n",
      "/home/main_dude/Projects/speech_tech/new_dataset/spk_dependent/training/3/akash_3_rec4.wav\n",
      "/home/main_dude/Projects/speech_tech/new_dataset/spk_dependent/training/3/ashwin_3_rec5.wav\n",
      "/home/main_dude/Projects/speech_tech/new_dataset/spk_dependent/training/3/ari_3_rec4.wav\n",
      "/home/main_dude/Projects/speech_tech/new_dataset/spk_dependent/training/3/akash_3_rec3.wav\n",
      "/home/main_dude/Projects/speech_tech/new_dataset/spk_dependent/training/3/ajay_3_rec1.wav\n",
      "/home/main_dude/Projects/speech_tech/new_dataset/spk_dependent/training/3/aniv_3_rec1.wav\n",
      "/home/main_dude/Projects/speech_tech/new_dataset/spk_dependent/training/3/anirudh_3_rec3.wav\n",
      "/home/main_dude/Projects/speech_tech/new_dataset/spk_dependent/training/3/abishek_3_rec5.wav\n",
      "/home/main_dude/Projects/speech_tech/new_dataset/spk_dependent/training/3/ari_3_rec2.wav\n",
      "/home/main_dude/Projects/speech_tech/new_dataset/spk_dependent/training/3/ashwin_3_rec4.wav\n",
      "/home/main_dude/Projects/speech_tech/new_dataset/spk_dependent/training/3/bhavya_3_rec3.wav\n",
      "/home/main_dude/Projects/speech_tech/new_dataset/spk_dependent/training/3/ajay_3_rec4.wav\n",
      "/home/main_dude/Projects/speech_tech/new_dataset/spk_dependent/training/3/bhavya_3_rec5.wav\n",
      "/home/main_dude/Projects/speech_tech/new_dataset/spk_dependent/training/3/akash_3_rec2.wav\n",
      "/home/main_dude/Projects/speech_tech/new_dataset/spk_dependent/training/3/ashwin_3_rec1.wav\n",
      "/home/main_dude/Projects/speech_tech/new_dataset/spk_dependent/training/3/bhavya_3_rec2.wav\n",
      "/home/main_dude/Projects/speech_tech/new_dataset/spk_dependent/training/3/ajay_3_rec3.wav\n",
      "/home/main_dude/Projects/speech_tech/new_dataset/spk_dependent/training/3/abishek_3_rec3.wav\n",
      "/home/main_dude/Projects/speech_tech/new_dataset/spk_dependent/training/3/arjun_3_rec1.wav\n",
      "/home/main_dude/Projects/speech_tech/new_dataset/spk_dependent/training/3/amrish_3_rec2.wav\n",
      "/home/main_dude/Projects/speech_tech/new_dataset/spk_dependent/training/3/aniv_3_rec2.wav\n",
      "/home/main_dude/Projects/speech_tech/new_dataset/spk_dependent/training/3/amrish_3_rec3.wav\n",
      "/home/main_dude/Projects/speech_tech/new_dataset/spk_dependent/training/3/anirudh_3_rec2.wav\n",
      "/home/main_dude/Projects/speech_tech/new_dataset/spk_dependent/training/3/aniv_3_rec3.wav\n",
      "/home/main_dude/Projects/speech_tech/new_dataset/spk_dependent/training/3/akash_3_rec1.wav\n",
      "/home/main_dude/Projects/speech_tech/new_dataset/spk_dependent/training/3/anirudh_3_rec5.wav\n",
      "/home/main_dude/Projects/speech_tech/new_dataset/spk_dependent/training/3/amrish_3_rec5.wav\n",
      "/home/main_dude/Projects/speech_tech/new_dataset/spk_dependent/training/3/bhavya_3_rec4.wav\n",
      "/home/main_dude/Projects/speech_tech/new_dataset/spk_dependent/training/3/ari_3_rec1.wav\n",
      "/home/main_dude/Projects/speech_tech/new_dataset/spk_dependent/training/3/abishek_3_rec4.wav\n",
      "/home/main_dude/Projects/speech_tech/new_dataset/spk_dependent/training/3/bhavya_3_rec1.wav\n",
      "/home/main_dude/Projects/speech_tech/new_dataset/spk_dependent/training/3/aniv_3_rec5.wav\n",
      "/home/main_dude/Projects/speech_tech/new_dataset/spk_dependent/training/3/ari_3_rec5.wav\n",
      "/home/main_dude/Projects/speech_tech/new_dataset/spk_dependent/training/3/aniv_3_rec4.wav\n",
      "/home/main_dude/Projects/speech_tech/new_dataset/spk_dependent/training/3/arjun_3_rec5.wav\n",
      "/home/main_dude/Projects/speech_tech/new_dataset/spk_dependent/training/3/bavapriyan_3_rec1.wav\n",
      "/home/main_dude/Projects/speech_tech/new_dataset/spk_dependent/training/3/anirudh_3_rec1.wav\n",
      "/home/main_dude/Projects/speech_tech/new_dataset/spk_dependent/training/3/ashwin_3_rec2.wav\n",
      "/home/main_dude/Projects/speech_tech/new_dataset/spk_dependent/training/3/arjun_3_rec3.wav\n",
      "/home/main_dude/Projects/speech_tech/new_dataset/spk_dependent/training/3/bavapriyan_3_rec5.wav\n",
      "/home/main_dude/Projects/speech_tech/new_dataset/spk_dependent/training/3/bavapriyan_3_rec4.wav\n",
      "/home/main_dude/Projects/speech_tech/new_dataset/spk_dependent/training/3/bavapriyan_3_rec3.wav\n",
      "/home/main_dude/Projects/speech_tech/new_dataset/spk_dependent/training/3/abishek_3_rec1.wav\n",
      "/home/main_dude/Projects/speech_tech/new_dataset/spk_dependent/training/3/bavapriyan_3_rec2.wav\n",
      "/home/main_dude/Projects/speech_tech/new_dataset/spk_dependent/training/3/ari_3_rec3.wav\n",
      "/home/main_dude/Projects/speech_tech/new_dataset/spk_dependent/training/3/amrish_3_rec4.wav\n",
      "/home/main_dude/Projects/speech_tech/new_dataset/spk_dependent/training/3/ajay_3_rec5.wav\n",
      "/home/main_dude/Projects/speech_tech/new_dataset/spk_dependent/training/3/amrish_3_rec1.wav\n",
      "/home/main_dude/Projects/speech_tech/new_dataset/spk_dependent/training/3/anirudh_3_rec4.wav\n",
      "/home/main_dude/Projects/speech_tech/new_dataset/spk_dependent/training/3/arjun_3_rec4.wav\n",
      "/home/main_dude/Projects/speech_tech/new_dataset/spk_dependent/training/3/ajay_3_rec2.wav\n",
      "/home/main_dude/Projects/speech_tech/new_dataset/spk_dependent/training/4/abishek_4_rec3.wav\n",
      "/home/main_dude/Projects/speech_tech/new_dataset/spk_dependent/training/4/bhavya_4_rec1.wav\n",
      "/home/main_dude/Projects/speech_tech/new_dataset/spk_dependent/training/4/ashwin_4_rec4.wav\n",
      "/home/main_dude/Projects/speech_tech/new_dataset/spk_dependent/training/4/akash_4_rec2.wav\n",
      "/home/main_dude/Projects/speech_tech/new_dataset/spk_dependent/training/4/anirudh_4_rec5.wav\n",
      "/home/main_dude/Projects/speech_tech/new_dataset/spk_dependent/training/4/aniv_4_rec5.wav\n",
      "/home/main_dude/Projects/speech_tech/new_dataset/spk_dependent/training/4/amrish_4_rec3.wav\n",
      "/home/main_dude/Projects/speech_tech/new_dataset/spk_dependent/training/4/anirudh_4_rec3.wav\n",
      "/home/main_dude/Projects/speech_tech/new_dataset/spk_dependent/training/4/bhavya_4_rec3.wav\n",
      "/home/main_dude/Projects/speech_tech/new_dataset/spk_dependent/training/4/anirudh_4_rec1.wav\n",
      "/home/main_dude/Projects/speech_tech/new_dataset/spk_dependent/training/4/abishek_4_rec2.wav\n",
      "/home/main_dude/Projects/speech_tech/new_dataset/spk_dependent/training/4/amrish_4_rec2.wav\n",
      "/home/main_dude/Projects/speech_tech/new_dataset/spk_dependent/training/4/arjun_4_rec3.wav\n",
      "/home/main_dude/Projects/speech_tech/new_dataset/spk_dependent/training/4/bhavya_4_rec4.wav\n",
      "/home/main_dude/Projects/speech_tech/new_dataset/spk_dependent/training/4/ajay_4_rec2.wav\n",
      "/home/main_dude/Projects/speech_tech/new_dataset/spk_dependent/training/4/arjun_4_rec1.wav\n",
      "/home/main_dude/Projects/speech_tech/new_dataset/spk_dependent/training/4/ari_4_rec5.wav\n",
      "/home/main_dude/Projects/speech_tech/new_dataset/spk_dependent/training/4/ashwin_4_rec5.wav\n",
      "/home/main_dude/Projects/speech_tech/new_dataset/spk_dependent/training/4/akash_4_rec3.wav\n",
      "/home/main_dude/Projects/speech_tech/new_dataset/spk_dependent/training/4/bhavya_4_rec5.wav\n",
      "/home/main_dude/Projects/speech_tech/new_dataset/spk_dependent/training/4/aniv_4_rec3.wav\n",
      "/home/main_dude/Projects/speech_tech/new_dataset/spk_dependent/training/4/amrish_4_rec4.wav\n",
      "/home/main_dude/Projects/speech_tech/new_dataset/spk_dependent/training/4/ajay_4_rec1.wav\n",
      "/home/main_dude/Projects/speech_tech/new_dataset/spk_dependent/training/4/amrish_4_rec5.wav\n",
      "/home/main_dude/Projects/speech_tech/new_dataset/spk_dependent/training/4/anirudh_4_rec4.wav\n",
      "/home/main_dude/Projects/speech_tech/new_dataset/spk_dependent/training/4/abishek_4_rec4.wav\n",
      "/home/main_dude/Projects/speech_tech/new_dataset/spk_dependent/training/4/aniv_4_rec1.wav\n",
      "/home/main_dude/Projects/speech_tech/new_dataset/spk_dependent/training/4/ashwin_4_rec1.wav\n",
      "/home/main_dude/Projects/speech_tech/new_dataset/spk_dependent/training/4/ashwin_4_rec2.wav\n",
      "/home/main_dude/Projects/speech_tech/new_dataset/spk_dependent/training/4/ari_4_rec1.wav\n",
      "/home/main_dude/Projects/speech_tech/new_dataset/spk_dependent/training/4/aniv_4_rec4.wav\n",
      "/home/main_dude/Projects/speech_tech/new_dataset/spk_dependent/training/4/bavapriyan_4_rec5.wav\n",
      "/home/main_dude/Projects/speech_tech/new_dataset/spk_dependent/training/4/ajay_4_rec3.wav\n",
      "/home/main_dude/Projects/speech_tech/new_dataset/spk_dependent/training/4/bavapriyan_4_rec3.wav\n",
      "/home/main_dude/Projects/speech_tech/new_dataset/spk_dependent/training/4/ari_4_rec4.wav\n",
      "/home/main_dude/Projects/speech_tech/new_dataset/spk_dependent/training/4/ari_4_rec2.wav\n",
      "/home/main_dude/Projects/speech_tech/new_dataset/spk_dependent/training/4/bavapriyan_4_rec4.wav\n",
      "/home/main_dude/Projects/speech_tech/new_dataset/spk_dependent/training/4/aniv_4_rec2.wav\n",
      "/home/main_dude/Projects/speech_tech/new_dataset/spk_dependent/training/4/ari_4_rec3.wav\n",
      "/home/main_dude/Projects/speech_tech/new_dataset/spk_dependent/training/4/akash_4_rec5.wav\n",
      "/home/main_dude/Projects/speech_tech/new_dataset/spk_dependent/training/4/abishek_4_rec1.wav\n",
      "/home/main_dude/Projects/speech_tech/new_dataset/spk_dependent/training/4/akash_4_rec4.wav\n",
      "/home/main_dude/Projects/speech_tech/new_dataset/spk_dependent/training/4/ashwin_4_rec3.wav\n",
      "/home/main_dude/Projects/speech_tech/new_dataset/spk_dependent/training/4/bhavya_4_rec2.wav\n",
      "/home/main_dude/Projects/speech_tech/new_dataset/spk_dependent/training/4/abishek_4_rec5.wav\n",
      "/home/main_dude/Projects/speech_tech/new_dataset/spk_dependent/training/4/ajay_4_rec5.wav\n",
      "/home/main_dude/Projects/speech_tech/new_dataset/spk_dependent/training/4/akash_4_rec1.wav\n",
      "/home/main_dude/Projects/speech_tech/new_dataset/spk_dependent/training/4/arjun_4_rec4.wav\n",
      "/home/main_dude/Projects/speech_tech/new_dataset/spk_dependent/training/4/ajay_4_rec4.wav\n",
      "/home/main_dude/Projects/speech_tech/new_dataset/spk_dependent/training/4/anirudh_4_rec2.wav\n",
      "/home/main_dude/Projects/speech_tech/new_dataset/spk_dependent/training/4/arjun_4_rec2.wav\n",
      "/home/main_dude/Projects/speech_tech/new_dataset/spk_dependent/training/4/amrish_4_rec1.wav\n",
      "/home/main_dude/Projects/speech_tech/new_dataset/spk_dependent/training/4/bavapriyan_4_rec2.wav\n",
      "/home/main_dude/Projects/speech_tech/new_dataset/spk_dependent/training/4/arjun_4_rec5.wav\n",
      "/home/main_dude/Projects/speech_tech/new_dataset/spk_dependent/training/4/bavapriyan_4_rec1.wav\n",
      "/home/main_dude/Projects/speech_tech/new_dataset/spk_dependent/training/5/arjun_5_rec2.wav\n",
      "/home/main_dude/Projects/speech_tech/new_dataset/spk_dependent/training/5/abishek_5_rec3.wav\n",
      "/home/main_dude/Projects/speech_tech/new_dataset/spk_dependent/training/5/ashwin_5_rec4.wav\n",
      "/home/main_dude/Projects/speech_tech/new_dataset/spk_dependent/training/5/anirudh_5_rec1.wav\n",
      "/home/main_dude/Projects/speech_tech/new_dataset/spk_dependent/training/5/ajay_5_rec2.wav\n",
      "/home/main_dude/Projects/speech_tech/new_dataset/spk_dependent/training/5/akash_5_rec4.wav\n",
      "/home/main_dude/Projects/speech_tech/new_dataset/spk_dependent/training/5/ashwin_5_rec3.wav\n",
      "/home/main_dude/Projects/speech_tech/new_dataset/spk_dependent/training/5/ari_5_rec1.wav\n",
      "/home/main_dude/Projects/speech_tech/new_dataset/spk_dependent/training/5/bhavya_5_rec4.wav\n",
      "/home/main_dude/Projects/speech_tech/new_dataset/spk_dependent/training/5/akash_5_rec5.wav\n",
      "/home/main_dude/Projects/speech_tech/new_dataset/spk_dependent/training/5/abishek_5_rec5.wav\n",
      "/home/main_dude/Projects/speech_tech/new_dataset/spk_dependent/training/5/anirudh_5_rec4.wav\n",
      "/home/main_dude/Projects/speech_tech/new_dataset/spk_dependent/training/5/abishek_5_rec2.wav\n",
      "/home/main_dude/Projects/speech_tech/new_dataset/spk_dependent/training/5/ashwin_5_rec1.wav\n",
      "/home/main_dude/Projects/speech_tech/new_dataset/spk_dependent/training/5/ajay_5_rec1.wav\n",
      "/home/main_dude/Projects/speech_tech/new_dataset/spk_dependent/training/5/aniv_5_rec3.wav\n",
      "/home/main_dude/Projects/speech_tech/new_dataset/spk_dependent/training/5/ajay_5_rec4.wav\n",
      "/home/main_dude/Projects/speech_tech/new_dataset/spk_dependent/training/5/ashwin_5_rec5.wav\n",
      "/home/main_dude/Projects/speech_tech/new_dataset/spk_dependent/training/5/anirudh_5_rec5.wav\n",
      "/home/main_dude/Projects/speech_tech/new_dataset/spk_dependent/training/5/bhavya_5_rec3.wav\n",
      "/home/main_dude/Projects/speech_tech/new_dataset/spk_dependent/training/5/aniv_5_rec1.wav\n",
      "/home/main_dude/Projects/speech_tech/new_dataset/spk_dependent/training/5/akash_5_rec3.wav\n",
      "/home/main_dude/Projects/speech_tech/new_dataset/spk_dependent/training/5/amrish_5_rec1.wav\n",
      "/home/main_dude/Projects/speech_tech/new_dataset/spk_dependent/training/5/bavapriyan_5_rec4.wav\n",
      "/home/main_dude/Projects/speech_tech/new_dataset/spk_dependent/training/5/arjun_5_rec4.wav\n",
      "/home/main_dude/Projects/speech_tech/new_dataset/spk_dependent/training/5/amrish_5_rec2.wav\n",
      "/home/main_dude/Projects/speech_tech/new_dataset/spk_dependent/training/5/arjun_5_rec3.wav\n",
      "/home/main_dude/Projects/speech_tech/new_dataset/spk_dependent/training/5/bavapriyan_5_rec5.wav\n",
      "/home/main_dude/Projects/speech_tech/new_dataset/spk_dependent/training/5/ari_5_rec5.wav\n",
      "/home/main_dude/Projects/speech_tech/new_dataset/spk_dependent/training/5/arjun_5_rec1.wav\n",
      "/home/main_dude/Projects/speech_tech/new_dataset/spk_dependent/training/5/bavapriyan_5_rec3.wav\n",
      "/home/main_dude/Projects/speech_tech/new_dataset/spk_dependent/training/5/ari_5_rec3.wav\n",
      "/home/main_dude/Projects/speech_tech/new_dataset/spk_dependent/training/5/amrish_5_rec4.wav\n",
      "/home/main_dude/Projects/speech_tech/new_dataset/spk_dependent/training/5/bavapriyan_5_rec2.wav\n",
      "/home/main_dude/Projects/speech_tech/new_dataset/spk_dependent/training/5/akash_5_rec2.wav\n",
      "/home/main_dude/Projects/speech_tech/new_dataset/spk_dependent/training/5/aniv_5_rec4.wav\n",
      "/home/main_dude/Projects/speech_tech/new_dataset/spk_dependent/training/5/ari_5_rec4.wav\n",
      "/home/main_dude/Projects/speech_tech/new_dataset/spk_dependent/training/5/ashwin_5_rec2.wav\n",
      "/home/main_dude/Projects/speech_tech/new_dataset/spk_dependent/training/5/anirudh_5_rec2.wav\n",
      "/home/main_dude/Projects/speech_tech/new_dataset/spk_dependent/training/5/bhavya_5_rec2.wav\n",
      "/home/main_dude/Projects/speech_tech/new_dataset/spk_dependent/training/5/anirudh_5_rec3.wav\n",
      "/home/main_dude/Projects/speech_tech/new_dataset/spk_dependent/training/5/amrish_5_rec3.wav\n",
      "/home/main_dude/Projects/speech_tech/new_dataset/spk_dependent/training/5/ajay_5_rec3.wav\n",
      "/home/main_dude/Projects/speech_tech/new_dataset/spk_dependent/training/5/aniv_5_rec5.wav\n",
      "/home/main_dude/Projects/speech_tech/new_dataset/spk_dependent/training/5/arjun_5_rec5.wav\n",
      "/home/main_dude/Projects/speech_tech/new_dataset/spk_dependent/training/5/abishek_5_rec4.wav\n",
      "/home/main_dude/Projects/speech_tech/new_dataset/spk_dependent/training/5/akash_5_rec1.wav\n",
      "/home/main_dude/Projects/speech_tech/new_dataset/spk_dependent/training/5/bavapriyan_5_rec1.wav\n",
      "/home/main_dude/Projects/speech_tech/new_dataset/spk_dependent/training/5/abishek_5_rec1.wav\n",
      "/home/main_dude/Projects/speech_tech/new_dataset/spk_dependent/training/5/bhavya_5_rec1.wav\n",
      "/home/main_dude/Projects/speech_tech/new_dataset/spk_dependent/training/5/amrish_5_rec5.wav\n",
      "/home/main_dude/Projects/speech_tech/new_dataset/spk_dependent/training/5/aniv_5_rec2.wav\n",
      "/home/main_dude/Projects/speech_tech/new_dataset/spk_dependent/training/5/bhavya_5_rec5.wav\n",
      "/home/main_dude/Projects/speech_tech/new_dataset/spk_dependent/training/5/ajay_5_rec5.wav\n",
      "/home/main_dude/Projects/speech_tech/new_dataset/spk_dependent/training/5/ari_5_rec2.wav\n",
      "/home/main_dude/Projects/speech_tech/new_dataset/spk_dependent/training/6/ashwin_6_rec2.wav\n",
      "/home/main_dude/Projects/speech_tech/new_dataset/spk_dependent/training/6/abishek_6_rec5.wav\n",
      "/home/main_dude/Projects/speech_tech/new_dataset/spk_dependent/training/6/amrish_6_rec3.wav\n",
      "/home/main_dude/Projects/speech_tech/new_dataset/spk_dependent/training/6/bavapriyan_6_rec3.wav\n",
      "/home/main_dude/Projects/speech_tech/new_dataset/spk_dependent/training/6/ari_6_rec3.wav\n",
      "/home/main_dude/Projects/speech_tech/new_dataset/spk_dependent/training/6/aniv_6_rec3.wav\n",
      "/home/main_dude/Projects/speech_tech/new_dataset/spk_dependent/training/6/bavapriyan_6_rec2.wav\n",
      "/home/main_dude/Projects/speech_tech/new_dataset/spk_dependent/training/6/ari_6_rec1.wav\n",
      "/home/main_dude/Projects/speech_tech/new_dataset/spk_dependent/training/6/bavapriyan_6_rec5.wav\n",
      "/home/main_dude/Projects/speech_tech/new_dataset/spk_dependent/training/6/anirudh_6_rec4.wav\n",
      "/home/main_dude/Projects/speech_tech/new_dataset/spk_dependent/training/6/akash_6_rec2.wav\n",
      "/home/main_dude/Projects/speech_tech/new_dataset/spk_dependent/training/6/ajay_6_rec5.wav\n",
      "/home/main_dude/Projects/speech_tech/new_dataset/spk_dependent/training/6/arjun_6_rec5.wav\n",
      "/home/main_dude/Projects/speech_tech/new_dataset/spk_dependent/training/6/abishek_6_rec3.wav\n",
      "/home/main_dude/Projects/speech_tech/new_dataset/spk_dependent/training/6/amrish_6_rec1.wav\n",
      "/home/main_dude/Projects/speech_tech/new_dataset/spk_dependent/training/6/arjun_6_rec4.wav\n",
      "/home/main_dude/Projects/speech_tech/new_dataset/spk_dependent/training/6/ashwin_6_rec4.wav\n",
      "/home/main_dude/Projects/speech_tech/new_dataset/spk_dependent/training/6/akash_6_rec3.wav\n",
      "/home/main_dude/Projects/speech_tech/new_dataset/spk_dependent/training/6/arjun_6_rec1.wav\n",
      "/home/main_dude/Projects/speech_tech/new_dataset/spk_dependent/training/6/amrish_6_rec2.wav\n",
      "/home/main_dude/Projects/speech_tech/new_dataset/spk_dependent/training/6/ari_6_rec4.wav\n",
      "/home/main_dude/Projects/speech_tech/new_dataset/spk_dependent/training/6/bhavya_6_rec4.wav\n",
      "/home/main_dude/Projects/speech_tech/new_dataset/spk_dependent/training/6/bavapriyan_6_rec4.wav\n",
      "/home/main_dude/Projects/speech_tech/new_dataset/spk_dependent/training/6/ajay_6_rec4.wav\n",
      "/home/main_dude/Projects/speech_tech/new_dataset/spk_dependent/training/6/ari_6_rec5.wav\n",
      "/home/main_dude/Projects/speech_tech/new_dataset/spk_dependent/training/6/ajay_6_rec2.wav\n",
      "/home/main_dude/Projects/speech_tech/new_dataset/spk_dependent/training/6/bhavya_6_rec3.wav\n",
      "/home/main_dude/Projects/speech_tech/new_dataset/spk_dependent/training/6/amrish_6_rec4.wav\n",
      "/home/main_dude/Projects/speech_tech/new_dataset/spk_dependent/training/6/abishek_6_rec1.wav\n",
      "/home/main_dude/Projects/speech_tech/new_dataset/spk_dependent/training/6/aniv_6_rec1.wav\n",
      "/home/main_dude/Projects/speech_tech/new_dataset/spk_dependent/training/6/amrish_6_rec5.wav\n",
      "/home/main_dude/Projects/speech_tech/new_dataset/spk_dependent/training/6/aniv_6_rec2.wav\n",
      "/home/main_dude/Projects/speech_tech/new_dataset/spk_dependent/training/6/abishek_6_rec2.wav\n",
      "/home/main_dude/Projects/speech_tech/new_dataset/spk_dependent/training/6/aniv_6_rec5.wav\n",
      "/home/main_dude/Projects/speech_tech/new_dataset/spk_dependent/training/6/akash_6_rec1.wav\n",
      "/home/main_dude/Projects/speech_tech/new_dataset/spk_dependent/training/6/akash_6_rec5.wav\n",
      "/home/main_dude/Projects/speech_tech/new_dataset/spk_dependent/training/6/anirudh_6_rec2.wav\n",
      "/home/main_dude/Projects/speech_tech/new_dataset/spk_dependent/training/6/anirudh_6_rec5.wav\n",
      "/home/main_dude/Projects/speech_tech/new_dataset/spk_dependent/training/6/abishek_6_rec4.wav\n",
      "/home/main_dude/Projects/speech_tech/new_dataset/spk_dependent/training/6/arjun_6_rec3.wav\n",
      "/home/main_dude/Projects/speech_tech/new_dataset/spk_dependent/training/6/ari_6_rec2.wav\n",
      "/home/main_dude/Projects/speech_tech/new_dataset/spk_dependent/training/6/bhavya_6_rec5.wav\n",
      "/home/main_dude/Projects/speech_tech/new_dataset/spk_dependent/training/6/aniv_6_rec4.wav\n",
      "/home/main_dude/Projects/speech_tech/new_dataset/spk_dependent/training/6/ashwin_6_rec1.wav\n",
      "/home/main_dude/Projects/speech_tech/new_dataset/spk_dependent/training/6/bhavya_6_rec2.wav\n",
      "/home/main_dude/Projects/speech_tech/new_dataset/spk_dependent/training/6/akash_6_rec4.wav\n",
      "/home/main_dude/Projects/speech_tech/new_dataset/spk_dependent/training/6/arjun_6_rec2.wav\n",
      "/home/main_dude/Projects/speech_tech/new_dataset/spk_dependent/training/6/ajay_6_rec3.wav\n",
      "/home/main_dude/Projects/speech_tech/new_dataset/spk_dependent/training/6/bhavya_6_rec1.wav\n",
      "/home/main_dude/Projects/speech_tech/new_dataset/spk_dependent/training/6/ashwin_6_rec3.wav\n",
      "/home/main_dude/Projects/speech_tech/new_dataset/spk_dependent/training/6/ashwin_6_rec5.wav\n",
      "/home/main_dude/Projects/speech_tech/new_dataset/spk_dependent/training/6/ajay_6_rec1.wav\n",
      "/home/main_dude/Projects/speech_tech/new_dataset/spk_dependent/training/6/anirudh_6_rec1.wav\n",
      "/home/main_dude/Projects/speech_tech/new_dataset/spk_dependent/training/6/anirudh_6_rec3.wav\n",
      "/home/main_dude/Projects/speech_tech/new_dataset/spk_dependent/training/6/bavapriyan_6_rec1.wav\n",
      "/home/main_dude/Projects/speech_tech/new_dataset/spk_dependent/training/7/ari_7_rec1.wav\n",
      "/home/main_dude/Projects/speech_tech/new_dataset/spk_dependent/training/7/ashwin_7_rec5.wav\n",
      "/home/main_dude/Projects/speech_tech/new_dataset/spk_dependent/training/7/ashwin_7_rec4.wav\n",
      "/home/main_dude/Projects/speech_tech/new_dataset/spk_dependent/training/7/ashwin_7_rec1.wav\n",
      "/home/main_dude/Projects/speech_tech/new_dataset/spk_dependent/training/7/bhavya_7_rec5.wav\n",
      "/home/main_dude/Projects/speech_tech/new_dataset/spk_dependent/training/7/bhavya_7_rec2.wav\n",
      "/home/main_dude/Projects/speech_tech/new_dataset/spk_dependent/training/7/bavapriyan_7_rec1.wav\n",
      "/home/main_dude/Projects/speech_tech/new_dataset/spk_dependent/training/7/amrish_7_rec4.wav\n",
      "/home/main_dude/Projects/speech_tech/new_dataset/spk_dependent/training/7/ari_7_rec5.wav\n",
      "/home/main_dude/Projects/speech_tech/new_dataset/spk_dependent/training/7/arjun_7_rec3.wav\n",
      "/home/main_dude/Projects/speech_tech/new_dataset/spk_dependent/training/7/amrish_7_rec1.wav\n",
      "/home/main_dude/Projects/speech_tech/new_dataset/spk_dependent/training/7/bhavya_7_rec3.wav\n",
      "/home/main_dude/Projects/speech_tech/new_dataset/spk_dependent/training/7/amrish_7_rec5.wav\n",
      "/home/main_dude/Projects/speech_tech/new_dataset/spk_dependent/training/7/akash_7_rec5.wav\n",
      "/home/main_dude/Projects/speech_tech/new_dataset/spk_dependent/training/7/arjun_7_rec4.wav\n",
      "/home/main_dude/Projects/speech_tech/new_dataset/spk_dependent/training/7/bavapriyan_7_rec5.wav\n",
      "/home/main_dude/Projects/speech_tech/new_dataset/spk_dependent/training/7/akash_7_rec3.wav\n",
      "/home/main_dude/Projects/speech_tech/new_dataset/spk_dependent/training/7/bhavya_7_rec1.wav\n",
      "/home/main_dude/Projects/speech_tech/new_dataset/spk_dependent/training/7/bavapriyan_7_rec3.wav\n",
      "/home/main_dude/Projects/speech_tech/new_dataset/spk_dependent/training/7/aniv_7_rec4.wav\n",
      "/home/main_dude/Projects/speech_tech/new_dataset/spk_dependent/training/7/amrish_7_rec3.wav\n",
      "/home/main_dude/Projects/speech_tech/new_dataset/spk_dependent/training/7/ajay_7_rec1.wav\n",
      "/home/main_dude/Projects/speech_tech/new_dataset/spk_dependent/training/7/abishek_7_rec3.wav\n",
      "/home/main_dude/Projects/speech_tech/new_dataset/spk_dependent/training/7/ajay_7_rec5.wav\n",
      "/home/main_dude/Projects/speech_tech/new_dataset/spk_dependent/training/7/aniv_7_rec3.wav\n",
      "/home/main_dude/Projects/speech_tech/new_dataset/spk_dependent/training/7/bavapriyan_7_rec4.wav\n",
      "/home/main_dude/Projects/speech_tech/new_dataset/spk_dependent/training/7/aniv_7_rec2.wav\n",
      "/home/main_dude/Projects/speech_tech/new_dataset/spk_dependent/training/7/anirudh_7_rec2.wav\n",
      "/home/main_dude/Projects/speech_tech/new_dataset/spk_dependent/training/7/ari_7_rec3.wav\n",
      "/home/main_dude/Projects/speech_tech/new_dataset/spk_dependent/training/7/ajay_7_rec3.wav\n",
      "/home/main_dude/Projects/speech_tech/new_dataset/spk_dependent/training/7/anirudh_7_rec5.wav\n",
      "/home/main_dude/Projects/speech_tech/new_dataset/spk_dependent/training/7/abishek_7_rec4.wav\n",
      "/home/main_dude/Projects/speech_tech/new_dataset/spk_dependent/training/7/ari_7_rec4.wav\n",
      "/home/main_dude/Projects/speech_tech/new_dataset/spk_dependent/training/7/arjun_7_rec5.wav\n",
      "/home/main_dude/Projects/speech_tech/new_dataset/spk_dependent/training/7/ari_7_rec2.wav\n",
      "/home/main_dude/Projects/speech_tech/new_dataset/spk_dependent/training/7/abishek_7_rec2.wav\n",
      "/home/main_dude/Projects/speech_tech/new_dataset/spk_dependent/training/7/bavapriyan_7_rec2.wav\n",
      "/home/main_dude/Projects/speech_tech/new_dataset/spk_dependent/training/7/abishek_7_rec5.wav\n",
      "/home/main_dude/Projects/speech_tech/new_dataset/spk_dependent/training/7/akash_7_rec4.wav\n",
      "/home/main_dude/Projects/speech_tech/new_dataset/spk_dependent/training/7/ajay_7_rec2.wav\n",
      "/home/main_dude/Projects/speech_tech/new_dataset/spk_dependent/training/7/anirudh_7_rec4.wav\n",
      "/home/main_dude/Projects/speech_tech/new_dataset/spk_dependent/training/7/akash_7_rec1.wav\n",
      "/home/main_dude/Projects/speech_tech/new_dataset/spk_dependent/training/7/ashwin_7_rec3.wav\n",
      "/home/main_dude/Projects/speech_tech/new_dataset/spk_dependent/training/7/aniv_7_rec5.wav\n",
      "/home/main_dude/Projects/speech_tech/new_dataset/spk_dependent/training/7/arjun_7_rec2.wav\n",
      "/home/main_dude/Projects/speech_tech/new_dataset/spk_dependent/training/7/abishek_7_rec1.wav\n",
      "/home/main_dude/Projects/speech_tech/new_dataset/spk_dependent/training/7/amrish_7_rec2.wav\n",
      "/home/main_dude/Projects/speech_tech/new_dataset/spk_dependent/training/7/anirudh_7_rec1.wav\n",
      "/home/main_dude/Projects/speech_tech/new_dataset/spk_dependent/training/7/aniv_7_rec1.wav\n",
      "/home/main_dude/Projects/speech_tech/new_dataset/spk_dependent/training/7/ashwin_7_rec2.wav\n",
      "/home/main_dude/Projects/speech_tech/new_dataset/spk_dependent/training/7/anirudh_7_rec3.wav\n",
      "/home/main_dude/Projects/speech_tech/new_dataset/spk_dependent/training/7/bhavya_7_rec4.wav\n",
      "/home/main_dude/Projects/speech_tech/new_dataset/spk_dependent/training/7/akash_7_rec2.wav\n",
      "/home/main_dude/Projects/speech_tech/new_dataset/spk_dependent/training/7/arjun_7_rec1.wav\n",
      "/home/main_dude/Projects/speech_tech/new_dataset/spk_dependent/training/7/ajay_7_rec4.wav\n",
      "/home/main_dude/Projects/speech_tech/new_dataset/spk_dependent/training/8/akash_8_rec3.wav\n",
      "/home/main_dude/Projects/speech_tech/new_dataset/spk_dependent/training/8/abishek_8_rec2.wav\n",
      "/home/main_dude/Projects/speech_tech/new_dataset/spk_dependent/training/8/abishek_8_rec4.wav\n",
      "/home/main_dude/Projects/speech_tech/new_dataset/spk_dependent/training/8/amrish_8_rec1.wav\n",
      "/home/main_dude/Projects/speech_tech/new_dataset/spk_dependent/training/8/abishek_8_rec1.wav\n",
      "/home/main_dude/Projects/speech_tech/new_dataset/spk_dependent/training/8/bavapriyan_8_rec5.wav\n",
      "/home/main_dude/Projects/speech_tech/new_dataset/spk_dependent/training/8/ari_8_rec5.wav\n",
      "/home/main_dude/Projects/speech_tech/new_dataset/spk_dependent/training/8/anirudh_8_rec3.wav\n",
      "/home/main_dude/Projects/speech_tech/new_dataset/spk_dependent/training/8/bavapriyan_8_rec2.wav\n",
      "/home/main_dude/Projects/speech_tech/new_dataset/spk_dependent/training/8/ari_8_rec3.wav\n",
      "/home/main_dude/Projects/speech_tech/new_dataset/spk_dependent/training/8/anirudh_8_rec2.wav\n",
      "/home/main_dude/Projects/speech_tech/new_dataset/spk_dependent/training/8/arjun_8_rec5.wav\n",
      "/home/main_dude/Projects/speech_tech/new_dataset/spk_dependent/training/8/ari_8_rec1.wav\n",
      "/home/main_dude/Projects/speech_tech/new_dataset/spk_dependent/training/8/abishek_8_rec5.wav\n",
      "/home/main_dude/Projects/speech_tech/new_dataset/spk_dependent/training/8/bhavya_8_rec1.wav\n",
      "/home/main_dude/Projects/speech_tech/new_dataset/spk_dependent/training/8/ajay_8_rec1.wav\n",
      "/home/main_dude/Projects/speech_tech/new_dataset/spk_dependent/training/8/ashwin_8_rec1.wav\n",
      "/home/main_dude/Projects/speech_tech/new_dataset/spk_dependent/training/8/bhavya_8_rec4.wav\n",
      "/home/main_dude/Projects/speech_tech/new_dataset/spk_dependent/training/8/ashwin_8_rec3.wav\n",
      "/home/main_dude/Projects/speech_tech/new_dataset/spk_dependent/training/8/arjun_8_rec2.wav\n",
      "/home/main_dude/Projects/speech_tech/new_dataset/spk_dependent/training/8/anirudh_8_rec5.wav\n",
      "/home/main_dude/Projects/speech_tech/new_dataset/spk_dependent/training/8/amrish_8_rec2.wav\n",
      "/home/main_dude/Projects/speech_tech/new_dataset/spk_dependent/training/8/arjun_8_rec3.wav\n",
      "/home/main_dude/Projects/speech_tech/new_dataset/spk_dependent/training/8/ajay_8_rec3.wav\n",
      "/home/main_dude/Projects/speech_tech/new_dataset/spk_dependent/training/8/ashwin_8_rec4.wav\n",
      "/home/main_dude/Projects/speech_tech/new_dataset/spk_dependent/training/8/bhavya_8_rec5.wav\n",
      "/home/main_dude/Projects/speech_tech/new_dataset/spk_dependent/training/8/ajay_8_rec4.wav\n",
      "/home/main_dude/Projects/speech_tech/new_dataset/spk_dependent/training/8/bhavya_8_rec3.wav\n",
      "/home/main_dude/Projects/speech_tech/new_dataset/spk_dependent/training/8/amrish_8_rec4.wav\n",
      "/home/main_dude/Projects/speech_tech/new_dataset/spk_dependent/training/8/anirudh_8_rec4.wav\n",
      "/home/main_dude/Projects/speech_tech/new_dataset/spk_dependent/training/8/ari_8_rec2.wav\n",
      "/home/main_dude/Projects/speech_tech/new_dataset/spk_dependent/training/8/aniv_8_rec1.wav\n",
      "/home/main_dude/Projects/speech_tech/new_dataset/spk_dependent/training/8/akash_8_rec1.wav\n",
      "/home/main_dude/Projects/speech_tech/new_dataset/spk_dependent/training/8/aniv_8_rec3.wav\n",
      "/home/main_dude/Projects/speech_tech/new_dataset/spk_dependent/training/8/abishek_8_rec3.wav\n",
      "/home/main_dude/Projects/speech_tech/new_dataset/spk_dependent/training/8/akash_8_rec4.wav\n",
      "/home/main_dude/Projects/speech_tech/new_dataset/spk_dependent/training/8/bavapriyan_8_rec3.wav\n",
      "/home/main_dude/Projects/speech_tech/new_dataset/spk_dependent/training/8/amrish_8_rec3.wav\n",
      "/home/main_dude/Projects/speech_tech/new_dataset/spk_dependent/training/8/aniv_8_rec5.wav\n",
      "/home/main_dude/Projects/speech_tech/new_dataset/spk_dependent/training/8/ari_8_rec4.wav\n",
      "/home/main_dude/Projects/speech_tech/new_dataset/spk_dependent/training/8/aniv_8_rec4.wav\n",
      "/home/main_dude/Projects/speech_tech/new_dataset/spk_dependent/training/8/bhavya_8_rec2.wav\n",
      "/home/main_dude/Projects/speech_tech/new_dataset/spk_dependent/training/8/akash_8_rec5.wav\n",
      "/home/main_dude/Projects/speech_tech/new_dataset/spk_dependent/training/8/arjun_8_rec1.wav\n",
      "/home/main_dude/Projects/speech_tech/new_dataset/spk_dependent/training/8/ajay_8_rec5.wav\n",
      "/home/main_dude/Projects/speech_tech/new_dataset/spk_dependent/training/8/arjun_8_rec4.wav\n",
      "/home/main_dude/Projects/speech_tech/new_dataset/spk_dependent/training/8/bavapriyan_8_rec4.wav\n",
      "/home/main_dude/Projects/speech_tech/new_dataset/spk_dependent/training/8/anirudh_8_rec1.wav\n",
      "/home/main_dude/Projects/speech_tech/new_dataset/spk_dependent/training/8/bavapriyan_8_rec1.wav\n",
      "/home/main_dude/Projects/speech_tech/new_dataset/spk_dependent/training/8/amrish_8_rec5.wav\n",
      "/home/main_dude/Projects/speech_tech/new_dataset/spk_dependent/training/8/aniv_8_rec2.wav\n",
      "/home/main_dude/Projects/speech_tech/new_dataset/spk_dependent/training/8/ashwin_8_rec5.wav\n",
      "/home/main_dude/Projects/speech_tech/new_dataset/spk_dependent/training/8/akash_8_rec2.wav\n",
      "/home/main_dude/Projects/speech_tech/new_dataset/spk_dependent/training/8/ajay_8_rec2.wav\n",
      "/home/main_dude/Projects/speech_tech/new_dataset/spk_dependent/training/8/ashwin_8_rec2.wav\n",
      "/home/main_dude/Projects/speech_tech/new_dataset/spk_dependent/training/9/bavapriyan_9_rec5.wav\n",
      "/home/main_dude/Projects/speech_tech/new_dataset/spk_dependent/training/9/aniv_9_rec5.wav\n",
      "/home/main_dude/Projects/speech_tech/new_dataset/spk_dependent/training/9/ashwin_9_rec3.wav\n",
      "/home/main_dude/Projects/speech_tech/new_dataset/spk_dependent/training/9/arjun_9_rec5.wav\n",
      "/home/main_dude/Projects/speech_tech/new_dataset/spk_dependent/training/9/abishek_9_rec5.wav\n",
      "/home/main_dude/Projects/speech_tech/new_dataset/spk_dependent/training/9/ari_9_rec1.wav\n",
      "/home/main_dude/Projects/speech_tech/new_dataset/spk_dependent/training/9/ari_9_rec5.wav\n",
      "/home/main_dude/Projects/speech_tech/new_dataset/spk_dependent/training/9/amrish_9_rec1.wav\n",
      "/home/main_dude/Projects/speech_tech/new_dataset/spk_dependent/training/9/bhavya_9_rec4.wav\n",
      "/home/main_dude/Projects/speech_tech/new_dataset/spk_dependent/training/9/bavapriyan_9_rec1.wav\n",
      "/home/main_dude/Projects/speech_tech/new_dataset/spk_dependent/training/9/anirudh_9_rec5.wav\n",
      "/home/main_dude/Projects/speech_tech/new_dataset/spk_dependent/training/9/ari_9_rec4.wav\n",
      "/home/main_dude/Projects/speech_tech/new_dataset/spk_dependent/training/9/akash_9_rec4.wav\n",
      "/home/main_dude/Projects/speech_tech/new_dataset/spk_dependent/training/9/anirudh_9_rec4.wav\n",
      "/home/main_dude/Projects/speech_tech/new_dataset/spk_dependent/training/9/akash_9_rec2.wav\n",
      "/home/main_dude/Projects/speech_tech/new_dataset/spk_dependent/training/9/ashwin_9_rec4.wav\n",
      "/home/main_dude/Projects/speech_tech/new_dataset/spk_dependent/training/9/abishek_9_rec4.wav\n",
      "/home/main_dude/Projects/speech_tech/new_dataset/spk_dependent/training/9/aniv_9_rec4.wav\n",
      "/home/main_dude/Projects/speech_tech/new_dataset/spk_dependent/training/9/ashwin_9_rec2.wav\n",
      "/home/main_dude/Projects/speech_tech/new_dataset/spk_dependent/training/9/ajay_9_rec4.wav\n",
      "/home/main_dude/Projects/speech_tech/new_dataset/spk_dependent/training/9/ajay_9_rec2.wav\n",
      "/home/main_dude/Projects/speech_tech/new_dataset/spk_dependent/training/9/ajay_9_rec1.wav\n",
      "/home/main_dude/Projects/speech_tech/new_dataset/spk_dependent/training/9/amrish_9_rec3.wav\n",
      "/home/main_dude/Projects/speech_tech/new_dataset/spk_dependent/training/9/akash_9_rec5.wav\n",
      "/home/main_dude/Projects/speech_tech/new_dataset/spk_dependent/training/9/akash_9_rec3.wav\n",
      "/home/main_dude/Projects/speech_tech/new_dataset/spk_dependent/training/9/arjun_9_rec3.wav\n",
      "/home/main_dude/Projects/speech_tech/new_dataset/spk_dependent/training/9/aniv_9_rec3.wav\n",
      "/home/main_dude/Projects/speech_tech/new_dataset/spk_dependent/training/9/abishek_9_rec1.wav\n",
      "/home/main_dude/Projects/speech_tech/new_dataset/spk_dependent/training/9/abishek_9_rec2.wav\n",
      "/home/main_dude/Projects/speech_tech/new_dataset/spk_dependent/training/9/abishek_9_rec3.wav\n",
      "/home/main_dude/Projects/speech_tech/new_dataset/spk_dependent/training/9/ashwin_9_rec5.wav\n",
      "/home/main_dude/Projects/speech_tech/new_dataset/spk_dependent/training/9/ajay_9_rec3.wav\n",
      "/home/main_dude/Projects/speech_tech/new_dataset/spk_dependent/training/9/ashwin_9_rec1.wav\n",
      "/home/main_dude/Projects/speech_tech/new_dataset/spk_dependent/training/9/anirudh_9_rec3.wav\n",
      "/home/main_dude/Projects/speech_tech/new_dataset/spk_dependent/training/9/bhavya_9_rec5.wav\n",
      "/home/main_dude/Projects/speech_tech/new_dataset/spk_dependent/training/9/arjun_9_rec4.wav\n",
      "/home/main_dude/Projects/speech_tech/new_dataset/spk_dependent/training/9/bhavya_9_rec2.wav\n",
      "/home/main_dude/Projects/speech_tech/new_dataset/spk_dependent/training/9/bavapriyan_9_rec2.wav\n",
      "/home/main_dude/Projects/speech_tech/new_dataset/spk_dependent/training/9/akash_9_rec1.wav\n",
      "/home/main_dude/Projects/speech_tech/new_dataset/spk_dependent/training/9/ajay_9_rec5.wav\n",
      "/home/main_dude/Projects/speech_tech/new_dataset/spk_dependent/training/9/arjun_9_rec2.wav\n",
      "/home/main_dude/Projects/speech_tech/new_dataset/spk_dependent/training/9/anirudh_9_rec2.wav\n",
      "/home/main_dude/Projects/speech_tech/new_dataset/spk_dependent/training/9/amrish_9_rec5.wav\n",
      "/home/main_dude/Projects/speech_tech/new_dataset/spk_dependent/training/9/amrish_9_rec2.wav\n",
      "/home/main_dude/Projects/speech_tech/new_dataset/spk_dependent/training/9/aniv_9_rec1.wav\n",
      "/home/main_dude/Projects/speech_tech/new_dataset/spk_dependent/training/9/bhavya_9_rec3.wav\n",
      "/home/main_dude/Projects/speech_tech/new_dataset/spk_dependent/training/9/ari_9_rec3.wav\n",
      "/home/main_dude/Projects/speech_tech/new_dataset/spk_dependent/training/9/bhavya_9_rec1.wav\n",
      "/home/main_dude/Projects/speech_tech/new_dataset/spk_dependent/training/9/anirudh_9_rec1.wav\n",
      "/home/main_dude/Projects/speech_tech/new_dataset/spk_dependent/training/9/bavapriyan_9_rec3.wav\n",
      "/home/main_dude/Projects/speech_tech/new_dataset/spk_dependent/training/9/ari_9_rec2.wav\n",
      "/home/main_dude/Projects/speech_tech/new_dataset/spk_dependent/training/9/amrish_9_rec4.wav\n",
      "/home/main_dude/Projects/speech_tech/new_dataset/spk_dependent/training/9/aniv_9_rec2.wav\n",
      "/home/main_dude/Projects/speech_tech/new_dataset/spk_dependent/training/9/bavapriyan_9_rec4.wav\n",
      "/home/main_dude/Projects/speech_tech/new_dataset/spk_dependent/training/9/arjun_9_rec1.wav\n"
     ]
    }
   ],
   "source": [
    "speech_files_train = []\n",
    "y_train = []\n",
    "for index, target in enumerate(targets):\n",
    "    speech_files_train.append(os.listdir(os.path.join(dataset_path_train, target)))\n",
    "    y_train.append(np.ones(len(speech_files_train[index])) * index)\n",
    "speech_files_train = [item for sublist in speech_files_train for item in sublist]\n",
    "y_train = [int(item) for sublist in y_train for item in sublist]\n",
    "for index, target in zip(y_train, speech_files_train):\n",
    "    speech_path = os.path.join(dataset_path_train, str(index), target)\n",
    "    print(speech_path)"
   ]
  },
  {
   "cell_type": "code",
   "execution_count": 5,
   "id": "ab61003a",
   "metadata": {
    "colab": {
     "base_uri": "https://localhost:8080/"
    },
    "id": "ab61003a",
    "outputId": "3c9ebbf1-8f7b-436f-93ce-68edc1dbdfa1",
    "scrolled": true
   },
   "outputs": [
    {
     "name": "stdout",
     "output_type": "stream",
     "text": [
      "/home/main_dude/Projects/speech_tech/new_dataset/spk_dependent/testing/0/indu_0_rec1.wav\n",
      "/home/main_dude/Projects/speech_tech/new_dataset/spk_dependent/testing/0/indu_0_rec4.wav\n",
      "/home/main_dude/Projects/speech_tech/new_dataset/spk_dependent/testing/0/indu_0_rec2.wav\n",
      "/home/main_dude/Projects/speech_tech/new_dataset/spk_dependent/testing/0/indu_0_rec5.wav\n",
      "/home/main_dude/Projects/speech_tech/new_dataset/spk_dependent/testing/0/indu_0_rec3.wav\n",
      "/home/main_dude/Projects/speech_tech/new_dataset/spk_dependent/testing/1/indu_1_rec3.wav\n",
      "/home/main_dude/Projects/speech_tech/new_dataset/spk_dependent/testing/1/indu_1_rec2.wav\n",
      "/home/main_dude/Projects/speech_tech/new_dataset/spk_dependent/testing/1/indu_1_rec1.wav\n",
      "/home/main_dude/Projects/speech_tech/new_dataset/spk_dependent/testing/1/indu_1_rec4.wav\n",
      "/home/main_dude/Projects/speech_tech/new_dataset/spk_dependent/testing/1/indu_1_rec5.wav\n",
      "/home/main_dude/Projects/speech_tech/new_dataset/spk_dependent/testing/2/indu_2_rec1.wav\n",
      "/home/main_dude/Projects/speech_tech/new_dataset/spk_dependent/testing/2/indu_2_rec4.wav\n",
      "/home/main_dude/Projects/speech_tech/new_dataset/spk_dependent/testing/2/indu_2_rec3.wav\n",
      "/home/main_dude/Projects/speech_tech/new_dataset/spk_dependent/testing/2/indu_2_rec5.wav\n",
      "/home/main_dude/Projects/speech_tech/new_dataset/spk_dependent/testing/2/indu_2_rec2.wav\n",
      "/home/main_dude/Projects/speech_tech/new_dataset/spk_dependent/testing/3/indu_3_rec4.wav\n",
      "/home/main_dude/Projects/speech_tech/new_dataset/spk_dependent/testing/3/indu_3_rec3.wav\n",
      "/home/main_dude/Projects/speech_tech/new_dataset/spk_dependent/testing/3/indu_3_rec5.wav\n",
      "/home/main_dude/Projects/speech_tech/new_dataset/spk_dependent/testing/3/indu_3_rec2.wav\n",
      "/home/main_dude/Projects/speech_tech/new_dataset/spk_dependent/testing/3/indu_3_rec1.wav\n",
      "/home/main_dude/Projects/speech_tech/new_dataset/spk_dependent/testing/4/indu_4_rec2.wav\n",
      "/home/main_dude/Projects/speech_tech/new_dataset/spk_dependent/testing/4/indu_4_rec1.wav\n",
      "/home/main_dude/Projects/speech_tech/new_dataset/spk_dependent/testing/4/indu_4_rec3.wav\n",
      "/home/main_dude/Projects/speech_tech/new_dataset/spk_dependent/testing/4/indu_4_rec5.wav\n",
      "/home/main_dude/Projects/speech_tech/new_dataset/spk_dependent/testing/4/indu_4_rec4.wav\n",
      "/home/main_dude/Projects/speech_tech/new_dataset/spk_dependent/testing/5/indu_5_rec5.wav\n",
      "/home/main_dude/Projects/speech_tech/new_dataset/spk_dependent/testing/5/indu_5_rec3.wav\n",
      "/home/main_dude/Projects/speech_tech/new_dataset/spk_dependent/testing/5/indu_5_rec1.wav\n",
      "/home/main_dude/Projects/speech_tech/new_dataset/spk_dependent/testing/5/indu_5_rec2.wav\n",
      "/home/main_dude/Projects/speech_tech/new_dataset/spk_dependent/testing/5/indu_5_rec4.wav\n",
      "/home/main_dude/Projects/speech_tech/new_dataset/spk_dependent/testing/6/indu_6_rec5.wav\n",
      "/home/main_dude/Projects/speech_tech/new_dataset/spk_dependent/testing/6/indu_6_rec4.wav\n",
      "/home/main_dude/Projects/speech_tech/new_dataset/spk_dependent/testing/6/indu_6_rec3.wav\n",
      "/home/main_dude/Projects/speech_tech/new_dataset/spk_dependent/testing/6/indu_6_rec2.wav\n",
      "/home/main_dude/Projects/speech_tech/new_dataset/spk_dependent/testing/6/indu_6_rec1.wav\n",
      "/home/main_dude/Projects/speech_tech/new_dataset/spk_dependent/testing/7/indu_7_rec3.wav\n",
      "/home/main_dude/Projects/speech_tech/new_dataset/spk_dependent/testing/7/indu_7_rec4.wav\n",
      "/home/main_dude/Projects/speech_tech/new_dataset/spk_dependent/testing/7/indu_7_rec1.wav\n",
      "/home/main_dude/Projects/speech_tech/new_dataset/spk_dependent/testing/7/indu_7_rec5.wav\n",
      "/home/main_dude/Projects/speech_tech/new_dataset/spk_dependent/testing/7/indu_7_rec2.wav\n",
      "/home/main_dude/Projects/speech_tech/new_dataset/spk_dependent/testing/8/indu_8_rec3.wav\n",
      "/home/main_dude/Projects/speech_tech/new_dataset/spk_dependent/testing/8/indu_8_rec4.wav\n",
      "/home/main_dude/Projects/speech_tech/new_dataset/spk_dependent/testing/8/indu_8_rec2.wav\n",
      "/home/main_dude/Projects/speech_tech/new_dataset/spk_dependent/testing/8/indu_8_recc1.wav\n",
      "/home/main_dude/Projects/speech_tech/new_dataset/spk_dependent/testing/8/indu_8_rec5.wav\n",
      "/home/main_dude/Projects/speech_tech/new_dataset/spk_dependent/testing/9/indu_9_rec4.wav\n",
      "/home/main_dude/Projects/speech_tech/new_dataset/spk_dependent/testing/9/indu_9_rec5.wav\n",
      "/home/main_dude/Projects/speech_tech/new_dataset/spk_dependent/testing/9/indu_9_rec3.wav\n",
      "/home/main_dude/Projects/speech_tech/new_dataset/spk_dependent/testing/9/indu_9_rec1.wav\n",
      "/home/main_dude/Projects/speech_tech/new_dataset/spk_dependent/testing/9/indu_9_rec2.wav\n"
     ]
    }
   ],
   "source": [
    "speech_files_test = []\n",
    "y_test = []\n",
    "for index, target in enumerate(targets_test):\n",
    "    speech_files_test.append(os.listdir(os.path.join(dataset_path_test, target)))\n",
    "    y_test.append(np.ones(len(speech_files_test[index])) * index)\n",
    "speech_files_test = [item for sublist in speech_files_test for item in sublist]\n",
    "y_test = [int(item) for sublist in y_test for item in sublist]\n",
    "for index, target in zip(y_test, speech_files_test):\n",
    "    speech_path = os.path.join(dataset_path_test, str(index), target)\n",
    "    print(speech_path)"
   ]
  },
  {
   "cell_type": "code",
   "execution_count": 6,
   "id": "65a65878",
   "metadata": {
    "id": "65a65878",
    "scrolled": true
   },
   "outputs": [],
   "source": [
    "mfcc_features_train = []\n",
    "mfcc_delta_train = []\n",
    "mfcc_ddelta_train = []\n",
    "invalid_count = 0\n",
    "for index, target in zip(y_train, speech_files_train):\n",
    "    speech_path = os.path.join(dataset_path_train, str(index), target)\n",
    "    signal, fs = librosa.load(speech_path, sr = 16000)\n",
    "    mfccs = python_speech_features.base.mfcc(signal, \n",
    "                                             samplerate = fs,\n",
    "                                             winlen = 0.025,\n",
    "                                             winstep = 0.01,\n",
    "                                             numcep = 13,\n",
    "                                             nfilt = 20,\n",
    "                                             nfft = 2048,\n",
    "                                             lowfreq=100, \n",
    "                                             highfreq=None,\n",
    "                                             preemph = 0.97,\n",
    "                                             ceplifter = 0,\n",
    "                                             appendEnergy = True,\n",
    "                                             winfunc = np.hanning)\n",
    "    delta = librosa.feature.delta(mfccs, mfccs.shape[1])\n",
    "    ddelta = librosa.feature.delta(delta, delta.shape[1])\n",
    "    if mfccs.shape[0] != 99:\n",
    "        print(speech_path)\n",
    "        invalid_count += 1\n",
    "    else:\n",
    "        mfcc_delta_train.append(delta) \n",
    "        mfcc_features_train.append(mfccs)  \n",
    "        mfcc_ddelta_train.append(ddelta)"
   ]
  },
  {
   "cell_type": "code",
   "execution_count": 7,
   "id": "rxh0d2spGTiV",
   "metadata": {
    "id": "rxh0d2spGTiV"
   },
   "outputs": [],
   "source": [
    "mfcc_features_test = []\n",
    "mfcc_delta_test = []\n",
    "mfcc_ddelta_test = []\n",
    "invalid_count = 0\n",
    "for index, target in zip(y_test, speech_files_test):\n",
    "    speech_path = os.path.join(dataset_path_test, str(index), target)\n",
    "    signal, fs = librosa.load(speech_path, sr = 16000)\n",
    "    mfccs = python_speech_features.base.mfcc(signal, \n",
    "                                             samplerate = fs,\n",
    "                                             winlen = 0.025,\n",
    "                                             winstep = 0.01,\n",
    "                                             numcep = 13,\n",
    "                                             nfilt = 20,\n",
    "                                             nfft = 2048,\n",
    "                                             lowfreq=100, \n",
    "                                             highfreq=None,\n",
    "                                             preemph = 0.97,\n",
    "                                             ceplifter = 0,\n",
    "                                             appendEnergy = True,\n",
    "                                             winfunc = np.hanning)\n",
    "    delta = librosa.feature.delta(mfccs, mfccs.shape[1])\n",
    "    ddelta = librosa.feature.delta(delta, delta.shape[1])\n",
    "    if mfccs.shape[0] != 99:\n",
    "        print(speech_path)\n",
    "        invalid_count += 1\n",
    "    else:\n",
    "        mfcc_delta_test.append(delta) \n",
    "        mfcc_features_test.append(mfccs)  \n",
    "        mfcc_ddelta_test.append(ddelta)"
   ]
  },
  {
   "cell_type": "code",
   "execution_count": 8,
   "id": "defe1a2e",
   "metadata": {
    "colab": {
     "base_uri": "https://localhost:8080/"
    },
    "id": "defe1a2e",
    "outputId": "9334afed-3c91-490d-9a95-c60591545804",
    "scrolled": true
   },
   "outputs": [
    {
     "name": "stdout",
     "output_type": "stream",
     "text": [
      "0\n"
     ]
    }
   ],
   "source": [
    "print(invalid_count)"
   ]
  },
  {
   "cell_type": "code",
   "execution_count": 9,
   "id": "286aee0d",
   "metadata": {
    "colab": {
     "base_uri": "https://localhost:8080/"
    },
    "id": "286aee0d",
    "outputId": "e30c1395-04ea-46f5-bc52-82e2c2edb207"
   },
   "outputs": [
    {
     "name": "stdout",
     "output_type": "stream",
     "text": [
      "(39, 99)\n"
     ]
    }
   ],
   "source": [
    "mfcc_features_train= np.array(mfcc_features_train)\n",
    "mfcc_delta_train = np.array(mfcc_delta_train)\n",
    "mfcc_ddelta_train = np.array(mfcc_ddelta_train)\n",
    "mfcc_26_train = []\n",
    "for i in range(mfcc_features_train.shape[0]):\n",
    "    mfcc_26_temp = np.hstack((mfcc_features_train[i], mfcc_delta_train[i]))\n",
    "    mfcc_26_temp = np.hstack((mfcc_26_temp, mfcc_ddelta_train[i]))\n",
    "    mfcc_26_train.append(mfcc_26_temp.transpose())\n",
    "print(mfcc_26_train[0].shape)"
   ]
  },
  {
   "cell_type": "code",
   "execution_count": 10,
   "id": "cbxHohBLHTRD",
   "metadata": {
    "colab": {
     "base_uri": "https://localhost:8080/"
    },
    "id": "cbxHohBLHTRD",
    "outputId": "a4f9912f-ee14-4f58-9d1e-c57d863c07b7"
   },
   "outputs": [
    {
     "name": "stdout",
     "output_type": "stream",
     "text": [
      "(39, 99)\n"
     ]
    }
   ],
   "source": [
    "mfcc_features_test= np.array(mfcc_features_test)\n",
    "mfcc_delta_test = np.array(mfcc_delta_test)\n",
    "mfcc_ddelta_test = np.array(mfcc_ddelta_test)\n",
    "mfcc_26_test = []\n",
    "for i in range(mfcc_features_test.shape[0]):\n",
    "    mfcc_26_temp = np.hstack((mfcc_features_test[i], mfcc_delta_test[i]))\n",
    "    mfcc_26_temp = np.hstack((mfcc_26_temp, mfcc_ddelta_test[i]))\n",
    "    mfcc_26_test.append(mfcc_26_temp.transpose())\n",
    "print(mfcc_26_test[0].shape)"
   ]
  },
  {
   "cell_type": "code",
   "execution_count": 11,
   "id": "37989f10",
   "metadata": {
    "colab": {
     "base_uri": "https://localhost:8080/",
     "height": 194
    },
    "id": "37989f10",
    "outputId": "e725b2dc-5a1b-4361-a584-1e316bce54ea",
    "scrolled": true
   },
   "outputs": [
    {
     "data": {
      "image/png": "[encoded data removed]",
      "text/plain": [
       "<Figure size 432x288 with 1 Axes>"
      ]
     },
     "metadata": {
      "needs_background": "light"
     },
     "output_type": "display_data"
    }
   ],
   "source": [
    "fig = plt.figure()\n",
    "plt.imshow(mfcc_26_train[0], cmap='inferno', origin='lower')\n",
    "plt.xlabel('Time (ms)')\n",
    "plt.ylabel('MFCC Co-efficients')\n",
    "plt.show()"
   ]
  },
  {
   "cell_type": "code",
   "execution_count": 12,
   "id": "2ae0fbdd",
   "metadata": {
    "colab": {
     "base_uri": "https://localhost:8080/"
    },
    "id": "2ae0fbdd",
    "outputId": "0c640b62-f56b-4f1d-eabd-d33c9207a66b"
   },
   "outputs": [
    {
     "name": "stdout",
     "output_type": "stream",
     "text": [
      "(495, 39, 99)\n",
      "(55, 39, 99)\n",
      "(50, 39, 99)\n",
      "(495,)\n",
      "(55,)\n",
      "(50,)\n"
     ]
    }
   ],
   "source": [
    "x_train, x_val, y_train, y_val = train_test_split(mfcc_26_train, y_train, test_size = 0.1, random_state = 69)\n",
    "x_train = np.array(x_train)\n",
    "x_val = np.array(x_val)\n",
    "x_test = np.array(mfcc_26_test)\n",
    "y_train = np.array(y_train)\n",
    "y_val = np.array(y_val)\n",
    "y_test = np.array(y_test)\n",
    "print(x_train.shape)\n",
    "print(x_val.shape)\n",
    "print(x_test.shape)\n",
    "print(y_train.shape)\n",
    "print(y_val.shape)\n",
    "print(y_test.shape)"
   ]
  },
  {
   "cell_type": "markdown",
   "id": "5cbf9298",
   "metadata": {
    "id": "5cbf9298"
   },
   "source": [
    "# MODEL TRAINING"
   ]
  },
  {
   "cell_type": "code",
   "execution_count": 13,
   "id": "20b1e7bc",
   "metadata": {
    "colab": {
     "base_uri": "https://localhost:8080/"
    },
    "id": "20b1e7bc",
    "outputId": "f8861b75-35ce-4da0-c9ad-0f5c73d2fcde"
   },
   "outputs": [
    {
     "name": "stdout",
     "output_type": "stream",
     "text": [
      "(495, 39, 99, 1)\n",
      "(39, 99, 1)\n"
     ]
    }
   ],
   "source": [
    "x_train = x_train.reshape(x_train.shape[0], \n",
    "                          x_train.shape[1], \n",
    "                          x_train.shape[2], \n",
    "                          1)\n",
    "x_val = x_val.reshape(x_val.shape[0], \n",
    "                      x_val.shape[1], \n",
    "                      x_val.shape[2], \n",
    "                      1)\n",
    "x_test = x_test.reshape(x_test.shape[0], \n",
    "                        x_test.shape[1], \n",
    "                        x_test.shape[2], \n",
    "                        1)\n",
    "sample_shape = x_test.shape[1:]\n",
    "print(x_train.shape)\n",
    "print(sample_shape)"
   ]
  },
  {
   "cell_type": "code",
   "execution_count": null,
   "id": "78962da6",
   "metadata": {
    "id": "78962da6"
   },
   "outputs": [],
   "source": [
    "keras.backend.clear_session()\n",
    "model = models.Sequential()\n",
    "model.add(layers.Conv2D(32, (2, 2), activation='relu', input_shape=sample_shape))\n",
    "model.add(layers.MaxPooling2D(pool_size=(2, 2)))\n",
    "model.add(layers.Conv2D(32, (2, 2), activation='relu'))\n",
    "model.add(layers.MaxPooling2D(pool_size=(2, 2)))\n",
    "model.add(layers.Dropout(0.5))\n",
    "model.add(layers.Conv2D(64, (2, 2), activation='relu'))\n",
    "model.add(layers.MaxPooling2D(pool_size=(2, 2)))\n",
    "model.add(layers.Flatten())\n",
    "model.add(layers.Dense(128, activation='relu'))\n",
    "model.add(layers.Dropout(0.5))\n",
    "model.add(layers.Dense(len(targets), activation='softmax'))"
   ]
  },
  {
   "cell_type": "code",
   "execution_count": null,
   "id": "077d47f9",
   "metadata": {
    "colab": {
     "base_uri": "https://localhost:8080/"
    },
    "id": "077d47f9",
    "outputId": "375c1b59-e311-4009-ab05-057c3fdac49d"
   },
   "outputs": [],
   "source": [
    "model.summary()"
   ]
  },
  {
   "cell_type": "code",
   "execution_count": null,
   "id": "f06bbe5d",
   "metadata": {
    "id": "f06bbe5d"
   },
   "outputs": [],
   "source": [
    "model.compile(\n",
    "    optimizer=tf.keras.optimizers.Adam(),\n",
    "    loss=tf.keras.losses.SparseCategoricalCrossentropy(from_logits=True),\n",
    "    metrics=['accuracy'],\n",
    ")"
   ]
  },
  {
   "cell_type": "code",
   "execution_count": null,
   "id": "207063db",
   "metadata": {
    "colab": {
     "base_uri": "https://localhost:8080/"
    },
    "id": "207063db",
    "outputId": "f9662506-74ce-41d2-d41b-810f1187ec59"
   },
   "outputs": [],
   "source": [
    "history = model.fit(x_train, \n",
    "                    y_train, \n",
    "                    epochs=50, \n",
    "                    batch_size=50, \n",
    "                    validation_data=(x_val, y_val))"
   ]
  },
  {
   "cell_type": "code",
   "execution_count": null,
   "id": "acb28adb",
   "metadata": {
    "colab": {
     "base_uri": "https://localhost:8080/",
     "height": 265
    },
    "id": "acb28adb",
    "outputId": "6c9748d9-fac2-4256-ac83-36948b13323d"
   },
   "outputs": [],
   "source": [
    "metrics = history.history\n",
    "plt.plot(history.epoch, metrics['loss'], metrics['val_loss'])\n",
    "plt.legend(['loss', 'val_loss'])\n",
    "plt.show()"
   ]
  },
  {
   "cell_type": "code",
   "execution_count": null,
   "id": "9db9a282",
   "metadata": {
    "id": "9db9a282"
   },
   "outputs": [],
   "source": [
    "models.save_model(model, \"digit_recog_spk_independent.h5\")"
   ]
  },
  {
   "cell_type": "markdown",
   "id": "fd15e5d8",
   "metadata": {
    "id": "fd15e5d8"
   },
   "source": [
    "# Model Testing"
   ]
  },
  {
   "cell_type": "code",
   "execution_count": 14,
   "id": "eaccb7eb",
   "metadata": {},
   "outputs": [],
   "source": [
    "model = keras.models.load_model('digit_recog_spk_independent.h5')"
   ]
  },
  {
   "cell_type": "code",
   "execution_count": 15,
   "id": "d43518dd",
   "metadata": {
    "colab": {
     "base_uri": "https://localhost:8080/"
    },
    "id": "d43518dd",
    "outputId": "52b75c23-d497-4727-97eb-31dfaaad7fd3"
   },
   "outputs": [
    {
     "name": "stdout",
     "output_type": "stream",
     "text": [
      "Answer: 2  Prediction: [[1.9179922e-01 6.2600528e-05 2.9395553e-01 1.0435079e-04 4.5798483e-01\n",
      "  3.5024343e-05 5.5075131e-02 5.2607652e-07 9.8258269e-04 1.2766992e-07]]\n",
      "Answer: 2  Prediction: [[2.3545006e-03 5.5001717e-04 8.5835922e-01 2.0384522e-04 1.2561870e-01\n",
      "  6.7429910e-06 1.2666076e-02 1.6740070e-07 2.4051704e-04 1.8399034e-07]]\n",
      "Answer: 2  Prediction: [[7.7909548e-03 7.9364354e-06 2.7870908e-01 1.8001145e-06 7.1127808e-01\n",
      "  4.5201550e-06 2.1983874e-03 5.9702877e-08 9.1164948e-06 1.9184434e-09]]\n",
      "Answer: 2  Prediction: [[7.8126212e-04 1.5569033e-04 1.2903243e-01 1.2809930e-05 8.6896533e-01\n",
      "  3.1681666e-05 1.0093958e-03 1.7011273e-06 9.6163812e-06 6.3952747e-08]]\n",
      "Answer: 2  Prediction: [[8.3793856e-02 1.5699243e-02 1.2572782e-01 1.0781059e-03 6.8817574e-01\n",
      "  1.9387614e-03 7.7580206e-02 9.5618474e-05 5.8595208e-03 5.1087740e-05]]\n"
     ]
    }
   ],
   "source": [
    "for i in range(10, 15):\n",
    "    print('Answer:', y_test[i], ' Prediction:', model.predict(np.expand_dims(x_test[i], 0)))"
   ]
  },
  {
   "cell_type": "code",
   "execution_count": 16,
   "id": "1bc58094",
   "metadata": {
    "colab": {
     "base_uri": "https://localhost:8080/"
    },
    "id": "1bc58094",
    "outputId": "99ce4bfc-d5cf-4450-8ace-e7bccc351930"
   },
   "outputs": [
    {
     "name": "stdout",
     "output_type": "stream",
     "text": [
      "2/2 [==============================] - 0s 58ms/step - loss: 1.7129 - accuracy: 0.5200\n"
     ]
    },
    {
     "data": {
      "text/plain": [
       "[1.7129464149475098, 0.5199999809265137]"
      ]
     },
     "execution_count": 16,
     "metadata": {},
     "output_type": "execute_result"
    }
   ],
   "source": [
    "model.evaluate(x=x_test, y=y_test)"
   ]
  },
  {
   "cell_type": "code",
   "execution_count": 17,
   "id": "dd510805",
   "metadata": {
    "colab": {
     "base_uri": "https://localhost:8080/"
    },
    "id": "dd510805",
    "outputId": "f229a6d2-63bb-47d6-c7e9-741d9446bf1f"
   },
   "outputs": [
    {
     "name": "stdout",
     "output_type": "stream",
     "text": [
      "Test set accuracy: 52%\n"
     ]
    }
   ],
   "source": [
    "y_pred = np.argmax(model.predict(x_test), axis=1)\n",
    "y_true = y_test\n",
    "\n",
    "test_acc = sum(y_pred == y_true) / len(y_true)\n",
    "print(f'Test set accuracy: {test_acc:.0%}')"
   ]
  },
  {
   "cell_type": "code",
   "execution_count": 18,
   "id": "f03b1ffa",
   "metadata": {
    "colab": {
     "base_uri": "https://localhost:8080/",
     "height": 580
    },
    "id": "f03b1ffa",
    "outputId": "a402ac64-0a51-47b1-e8a1-9386cae7252a"
   },
   "outputs": [
    {
     "data": {
      "image/png": "[encoded data removed]",
      "text/plain": [
       "<Figure size 720x720 with 2 Axes>"
      ]
     },
     "metadata": {
      "needs_background": "light"
     },
     "output_type": "display_data"
    }
   ],
   "source": [
    "from sklearn.metrics import confusion_matrix\n",
    "targets = ['0', '1', '2', '3', '4', '5', '6', '7', '8', '9']\n",
    "y = np.argmax(model.predict(x_val), axis=1)\n",
    "cm = confusion_matrix(y_val, y,  normalize=\"all\")\n",
    "%matplotlib inline\n",
    "plt.close()\n",
    "plt.figure(figsize = (10,10))\n",
    "plt.imshow(cm, cmap=plt.cm.Blues)\n",
    "plt.xlabel(\"Predicted labels\")\n",
    "plt.ylabel(\"True labels\")\n",
    "plt.xticks(np.arange(0, 10, 1), targets, rotation=90)\n",
    "plt.yticks(np.arange(0, 10, 1), targets)\n",
    "plt.tick_params(labelsize=12)\n",
    "plt.title('Confusion matrix ')\n",
    "plt.colorbar()\n",
    "plt.show()"
   ]
  },
  {
   "cell_type": "code",
   "execution_count": null,
   "id": "589c871b",
   "metadata": {
    "id": "589c871b"
   },
   "outputs": [],
   "source": []
  }
 ],
 "metadata": {
  "colab": {
   "name": "Speech Project_Dependant_m_3.ipynb",
   "provenance": [],
   "toc_visible": true
  },
  "kernelspec": {
   "display_name": "Python 3",
   "language": "python",
   "name": "python3"
  },
  "language_info": {
   "codemirror_mode": {
    "name": "ipython",
    "version": 3
   },
   "file_extension": ".py",
   "mimetype": "text/x-python",
   "name": "python",
   "nbconvert_exporter": "python",
   "pygments_lexer": "ipython3",
   "version": "3.8.8"
  }
 },
 "nbformat": 4,
 "nbformat_minor": 5
}
